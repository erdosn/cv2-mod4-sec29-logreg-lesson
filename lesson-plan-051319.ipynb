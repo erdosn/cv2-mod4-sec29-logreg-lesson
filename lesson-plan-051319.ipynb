{
 "cells": [
  {
   "cell_type": "markdown",
   "metadata": {},
   "source": [
    "### Questions\n",
    "* ...?"
   ]
  },
  {
   "cell_type": "markdown",
   "metadata": {},
   "source": [
    "### Objectives\n",
    "YWBAT\n",
    "* give 3 examples of when logistic regression is used in the real world\n",
    "* explain how linear regression is tied to logistic regression\n",
    "    * They both deal with prediction\n",
    "    * They both have coefficients/parameters\n",
    "    * Logistic regression is a transformation of linear regression\n",
    "* explain the purpose of a sigmoid function\n",
    "    * Purpose is to give us percentage values of datapoints as opposed to absolute values\n",
    "    * Help us build a model to predict on boolean values \n",
    "    * Transformation function - transforms the linear model to values between 0 and 1 (S-Curve)\n",
    "* When does a high vs low threshold matter"
   ]
  },
  {
   "cell_type": "markdown",
   "metadata": {},
   "source": [
    "### Outline"
   ]
  },
  {
   "cell_type": "code",
   "execution_count": 56,
   "metadata": {},
   "outputs": [],
   "source": [
    "import pandas as pd\n",
    "import numpy as np\n",
    "\n",
    "from sklearn.linear_model import LogisticRegression, LogisticRegressionCV\n",
    "from sklearn.metrics import confusion_matrix\n",
    "from sklearn.model_selection import train_test_split\n",
    "from sklearn.datasets import make_blobs\n",
    "\n",
    "\n",
    "import matplotlib.pyplot as plt\n",
    "import seaborn as sns"
   ]
  },
  {
   "cell_type": "markdown",
   "metadata": {},
   "source": [
    "### Let's load in some mocked data"
   ]
  },
  {
   "cell_type": "code",
   "execution_count": 2,
   "metadata": {},
   "outputs": [
    {
     "data": {
      "text/html": [
       "<div>\n",
       "<style scoped>\n",
       "    .dataframe tbody tr th:only-of-type {\n",
       "        vertical-align: middle;\n",
       "    }\n",
       "\n",
       "    .dataframe tbody tr th {\n",
       "        vertical-align: top;\n",
       "    }\n",
       "\n",
       "    .dataframe thead th {\n",
       "        text-align: right;\n",
       "    }\n",
       "</style>\n",
       "<table border=\"1\" class=\"dataframe\">\n",
       "  <thead>\n",
       "    <tr style=\"text-align: right;\">\n",
       "      <th></th>\n",
       "      <th>x</th>\n",
       "      <th>y</th>\n",
       "    </tr>\n",
       "  </thead>\n",
       "  <tbody>\n",
       "    <tr>\n",
       "      <th>0</th>\n",
       "      <td>0.514780</td>\n",
       "      <td>1.0</td>\n",
       "    </tr>\n",
       "    <tr>\n",
       "      <th>1</th>\n",
       "      <td>-3.279173</td>\n",
       "      <td>0.0</td>\n",
       "    </tr>\n",
       "    <tr>\n",
       "      <th>2</th>\n",
       "      <td>-3.845859</td>\n",
       "      <td>0.0</td>\n",
       "    </tr>\n",
       "    <tr>\n",
       "      <th>3</th>\n",
       "      <td>0.947575</td>\n",
       "      <td>1.0</td>\n",
       "    </tr>\n",
       "    <tr>\n",
       "      <th>4</th>\n",
       "      <td>1.884433</td>\n",
       "      <td>1.0</td>\n",
       "    </tr>\n",
       "  </tbody>\n",
       "</table>\n",
       "</div>"
      ],
      "text/plain": [
       "          x    y\n",
       "0  0.514780  1.0\n",
       "1 -3.279173  0.0\n",
       "2 -3.845859  0.0\n",
       "3  0.947575  1.0\n",
       "4  1.884433  1.0"
      ]
     },
     "execution_count": 2,
     "metadata": {},
     "output_type": "execute_result"
    }
   ],
   "source": [
    "df = pd.read_csv(\"data.csv\")\n",
    "x = df[\"x\"]\n",
    "y = df[\"y\"]\n",
    "df.head()"
   ]
  },
  {
   "cell_type": "markdown",
   "metadata": {},
   "source": [
    "### Plotting our points with color"
   ]
  },
  {
   "cell_type": "code",
   "execution_count": 28,
   "metadata": {},
   "outputs": [],
   "source": [
    "x, y = make_blobs(n_samples=1000, n_features=1, centers=2, cluster_std=2.5, random_state=np.random.seed(42))"
   ]
  },
  {
   "cell_type": "code",
   "execution_count": 31,
   "metadata": {},
   "outputs": [
    {
     "data": {
      "image/png": "[encoded data removed]",
      "text/plain": [
       "<Figure size 576x360 with 1 Axes>"
      ]
     },
     "metadata": {
      "needs_background": "light"
     },
     "output_type": "display_data"
    }
   ],
   "source": [
    "color_dict = {0: 'green', 1: 'purple'}\n",
    "colors = [color_dict[j] for j in y]\n",
    "\n",
    "\n",
    "plt.figure(figsize=(8, 5))\n",
    "plt.grid()\n",
    "plt.scatter(x, y, color=colors, s=60)\n",
    "plt.show()\n",
    "\n",
    "# What are some possible values 0 and 1\n",
    "# 0: Benign\n",
    "# 1: Malignant"
   ]
  },
  {
   "cell_type": "markdown",
   "metadata": {},
   "source": [
    "### Why is Linear Regression no longer sufficient?\n",
    "* The range of linreg = -infty to infty \n",
    "* The range of our classes are 0 and 1\n",
    "* Plugging in our linear regression equation into a sigmoid function bounds it between 0 and 1. \n",
    "    * This is also normalization"
   ]
  },
  {
   "cell_type": "markdown",
   "metadata": {},
   "source": [
    "### How can we estimate these points?     \n",
    "\n",
    "$$f(x)= \\frac{1}{1 + e^{-c_1(x - c_2)}}$$   \n",
    "![](logreg.gif)"
   ]
  },
  {
   "cell_type": "code",
   "execution_count": 32,
   "metadata": {},
   "outputs": [],
   "source": [
    "def sigmoid(x, b0=0, b1=1):\n",
    "    # y = 1 / (1 + e^-(b0 + Xb1))\n",
    "    # input is x\n",
    "    # output is y values\n",
    "    # code here\n",
    "    return 1/(1 + np.exp(-(b0 + x*b1)))"
   ]
  },
  {
   "cell_type": "code",
   "execution_count": 147,
   "metadata": {},
   "outputs": [],
   "source": [
    "# get the y_preds\n",
    "y_pred = sigmoid(x, -3.99, 1.37)"
   ]
  },
  {
   "cell_type": "code",
   "execution_count": 148,
   "metadata": {},
   "outputs": [],
   "source": [
    "def make_plot(x, y, y_pred):\n",
    "    # Plot both our predictions and out points \n",
    "# We need a color dictionary\n",
    "    color_dict = {0: 'green', 1: 'purple'}\n",
    "    colors = [color_dict[j] for j in y]\n",
    "\n",
    "\n",
    "    plt.figure(figsize=(8, 5))\n",
    "    plt.grid()\n",
    "    plt.scatter(x, y, color=colors, s=60)\n",
    "    plt.scatter(x, y_pred)\n",
    "    plt.show()"
   ]
  },
  {
   "cell_type": "code",
   "execution_count": 149,
   "metadata": {},
   "outputs": [
    {
     "data": {
      "image/png": "[encoded data removed]",
      "text/plain": [
       "<Figure size 576x360 with 1 Axes>"
      ]
     },
     "metadata": {
      "needs_background": "light"
     },
     "output_type": "display_data"
    }
   ],
   "source": [
    "make_plot(x, y, y_pred)"
   ]
  },
  {
   "cell_type": "markdown",
   "metadata": {},
   "source": [
    "### Why are these labels better than our y_preds\n",
    "    * We can start predicting once we have labels\n",
    "\n",
    "### What are the y_pred values similar to? Probability"
   ]
  },
  {
   "cell_type": "code",
   "execution_count": 150,
   "metadata": {},
   "outputs": [],
   "source": [
    "def get_labels(y_pred, thresh=0.50):\n",
    "    # input sigmoid values\n",
    "    # return labels (0s and 1s)\n",
    "    # Code here\n",
    "    labels = [1 if j > thresh else 0 for j in y_pred]\n",
    "    return labels"
   ]
  },
  {
   "cell_type": "code",
   "execution_count": 151,
   "metadata": {
    "scrolled": false
   },
   "outputs": [],
   "source": [
    "# How can we measure our 'goodness' of fit?\n",
    "labels = get_labels(y_pred)\n",
    "pndict = get_p_n_dict(y, labels)"
   ]
  },
  {
   "cell_type": "code",
   "execution_count": 152,
   "metadata": {},
   "outputs": [],
   "source": [
    "def get_p_n_dict(y, y_pred):\n",
    "    # {TP:, FP:, TN:, FN:}\n",
    "    # Code here\n",
    "    pndict = {\"TP\": 0, \"FP\": 0, \"TN\": 0, \"FN\": 0}\n",
    "    for true, pred in zip(y, y_pred):\n",
    "        if pred == 0:\n",
    "            if true == 0:\n",
    "                pndict[\"TN\"] += 1\n",
    "            if true == 1:\n",
    "                pndict[\"FN\"] += 1\n",
    "        \n",
    "        elif pred == 1:\n",
    "            if true == 1:\n",
    "                pndict[\"TP\"] += 1\n",
    "            if true == 0:\n",
    "                pndict[\"FP\"] += 1\n",
    "    return pndict\n",
    "\n",
    "\n",
    "# \n",
    "def recall(pndict):\n",
    "    # FN rate/ratio\n",
    "    num = pndict['TP']\n",
    "    denom = pndict['TP']+pndict['FN']\n",
    "    return num/denom\n",
    "\n",
    "# \n",
    "def precision(pndict):\n",
    "    # FP rate/ratio\n",
    "    num = pndict['TP']\n",
    "    denom = pndict['TP']+pndict['FP']\n",
    "    return num/denom\n",
    "\n",
    "\n",
    "#\n",
    "def f1(pndict):\n",
    "    # harmonic/geometric mean of recall and precision\n",
    "    prec = precision(pndict)\n",
    "    rec = recall(pndict)\n",
    "    num = 2*prec*rec\n",
    "    denom = prec + rec\n",
    "    return num/denom\n",
    "\n",
    "\n",
    "def accuracy(pndict):\n",
    "    num = pndict['TP']+pndict['TN']\n",
    "    denom = sum(pndict.values())\n",
    "    return num/denom"
   ]
  },
  {
   "cell_type": "code",
   "execution_count": 153,
   "metadata": {},
   "outputs": [
    {
     "data": {
      "text/plain": [
       "0.99"
      ]
     },
     "execution_count": 153,
     "metadata": {},
     "output_type": "execute_result"
    }
   ],
   "source": [
    "accuracy(pndict)"
   ]
  },
  {
   "cell_type": "code",
   "execution_count": 154,
   "metadata": {},
   "outputs": [
    {
     "data": {
      "text/plain": [
       "(0.994, 0.9861111111111112, 0.99, 0.9900398406374502)"
      ]
     },
     "execution_count": 154,
     "metadata": {},
     "output_type": "execute_result"
    }
   ],
   "source": [
    "# get new labels based on a threshold\n",
    "labels = get_labels(y_pred)\n",
    "pndict = get_p_n_dict(y, labels)\n",
    "recall(pndict), precision(pndict), accuracy(pndict), f1(pndict)"
   ]
  },
  {
   "cell_type": "code",
   "execution_count": 155,
   "metadata": {},
   "outputs": [
    {
     "data": {
      "text/plain": [
       "array([[493,   7],\n",
       "       [  3, 497]])"
      ]
     },
     "execution_count": 155,
     "metadata": {},
     "output_type": "execute_result"
    }
   ],
   "source": [
    "cm = confusion_matrix(y, labels)\n",
    "cm"
   ]
  },
  {
   "cell_type": "code",
   "execution_count": 156,
   "metadata": {},
   "outputs": [],
   "source": [
    "def plot_confusion(y_true, y_pred):\n",
    "    cm = confusion_matrix(y_true, y_pred)\n",
    "    plt.figure(figsize=(8, 8))\n",
    "    sns.heatmap(cm, annot=True, cmap=sns.color_palette('Purples'), fmt='0g', annot_kws={\"ha\":\"center\", \"va\":\"top\"})\n",
    "    sns.heatmap(cm/np.sum(cm), annot=True, cmap=sns.color_palette('Purples'), fmt='0.01%', annot_kws={\"ha\":\"center\", \"va\":\"bottom\"})\n",
    "    plt.xlabel(\"Pred\", fontsize=16)\n",
    "    plt.ylabel(\"Actual\", fontsize=16)\n",
    "    plt.show()"
   ]
  },
  {
   "cell_type": "code",
   "execution_count": 158,
   "metadata": {},
   "outputs": [
    {
     "data": {
      "image/png": "[encoded data removed]",
      "text/plain": [
       "<Figure size 576x576 with 3 Axes>"
      ]
     },
     "metadata": {
      "needs_background": "light"
     },
     "output_type": "display_data"
    }
   ],
   "source": [
    "plot_confusion(y, labels)"
   ]
  },
  {
   "cell_type": "markdown",
   "metadata": {},
   "source": [
    "### What about thresholds?"
   ]
  },
  {
   "cell_type": "code",
   "execution_count": 159,
   "metadata": {},
   "outputs": [
    {
     "name": "stdout",
     "output_type": "stream",
     "text": [
      "[array([0.47357205]), array([0.29374491]), array([0.32739307])]\n"
     ]
    }
   ],
   "source": [
    "# if this is cancer\n",
    "false_negatives = []\n",
    "for j, pred, label in zip(y, y_pred, labels):\n",
    "    if j != label and label == 0:\n",
    "        false_negatives.append(pred)\n",
    "print(false_negatives)"
   ]
  },
  {
   "cell_type": "code",
   "execution_count": 160,
   "metadata": {},
   "outputs": [],
   "source": [
    "new_labels = get_labels(y_pred, thresh=0.30)"
   ]
  },
  {
   "cell_type": "code",
   "execution_count": 161,
   "metadata": {},
   "outputs": [
    {
     "data": {
      "image/png": "[encoded data removed]",
      "text/plain": [
       "<Figure size 576x576 with 3 Axes>"
      ]
     },
     "metadata": {
      "needs_background": "light"
     },
     "output_type": "display_data"
    },
    {
     "data": {
      "image/png": "[encoded data removed]",
      "text/plain": [
       "<Figure size 576x576 with 3 Axes>"
      ]
     },
     "metadata": {
      "needs_background": "light"
     },
     "output_type": "display_data"
    },
    {
     "data": {
      "text/plain": [
       "(None, None)"
      ]
     },
     "execution_count": 161,
     "metadata": {},
     "output_type": "execute_result"
    }
   ],
   "source": [
    "plot_confusion(y, new_labels), plot_confusion(y, labels)"
   ]
  },
  {
   "cell_type": "code",
   "execution_count": null,
   "metadata": {},
   "outputs": [],
   "source": []
  },
  {
   "cell_type": "code",
   "execution_count": null,
   "metadata": {},
   "outputs": [],
   "source": []
  },
  {
   "cell_type": "code",
   "execution_count": 194,
   "metadata": {},
   "outputs": [],
   "source": [
    "logreg = LogisticRegression(fit_intercept=False, penalty='l1', n_jobs=-1)"
   ]
  },
  {
   "cell_type": "code",
   "execution_count": 195,
   "metadata": {},
   "outputs": [],
   "source": [
    "xtrain, xtest, ytrain, ytest = train_test_split(x, y, train_size=0.80)"
   ]
  },
  {
   "cell_type": "code",
   "execution_count": 197,
   "metadata": {},
   "outputs": [
    {
     "name": "stderr",
     "output_type": "stream",
     "text": [
      "/anaconda3/lib/python3.7/site-packages/sklearn/linear_model/logistic.py:432: FutureWarning: Default solver will be changed to 'lbfgs' in 0.22. Specify a solver to silence this warning.\n",
      "  FutureWarning)\n",
      "/anaconda3/lib/python3.7/site-packages/sklearn/linear_model/logistic.py:1544: UserWarning: 'n_jobs' > 1 does not have any effect when 'solver' is set to 'liblinear'. Got 'n_jobs' = 8.\n",
      "  \" = {}.\".format(effective_n_jobs(self.n_jobs)))\n"
     ]
    },
    {
     "data": {
      "text/plain": [
       "LogisticRegression(C=1.0, class_weight=None, dual=False, fit_intercept=False,\n",
       "                   intercept_scaling=1, l1_ratio=None, max_iter=100,\n",
       "                   multi_class='warn', n_jobs=-1, penalty='l1',\n",
       "                   random_state=None, solver='warn', tol=0.0001, verbose=0,\n",
       "                   warm_start=False)"
      ]
     },
     "execution_count": 197,
     "metadata": {},
     "output_type": "execute_result"
    }
   ],
   "source": [
    "logreg.fit(xtrain, ytrain)"
   ]
  },
  {
   "cell_type": "code",
   "execution_count": 198,
   "metadata": {},
   "outputs": [
    {
     "data": {
      "text/plain": [
       "array([0, 0, 0, 1, 1, 1, 1, 0, 0, 1, 1, 0, 0, 1, 0, 0, 1, 0, 0, 1, 1, 1,\n",
       "       0, 0, 1, 1, 1, 0, 1, 0, 1, 0, 1, 1, 0, 1, 0, 0, 0, 1, 1, 1, 0, 1,\n",
       "       1, 0, 1, 1, 1, 0, 1, 0, 0, 1, 1, 1, 1, 0, 1, 0, 0, 1, 1, 1, 0, 1,\n",
       "       1, 1, 1, 0, 0, 0, 1, 1, 1, 0, 1, 1, 1, 1, 0, 0, 0, 1, 1, 1, 0, 0,\n",
       "       0, 0, 0, 0, 1, 0, 0, 1, 0, 0, 1, 0, 1, 0, 1, 1, 0, 1, 0, 0, 1, 1,\n",
       "       1, 1, 1, 0, 1, 1, 0, 1, 0, 0, 1, 1, 0, 1, 1, 0, 0, 0, 1, 0, 0, 1,\n",
       "       1, 1, 1, 0, 1, 1, 1, 1, 0, 0, 1, 0, 0, 1, 1, 1, 1, 0, 1, 0, 0, 1,\n",
       "       1, 0, 0, 0, 1, 1, 1, 1, 0, 0, 0, 0, 1, 0, 1, 0, 0, 0, 1, 0, 1, 1,\n",
       "       1, 0, 0, 0, 1, 0, 1, 1, 1, 1, 1, 1, 0, 0, 0, 0, 0, 1, 0, 0, 0, 1,\n",
       "       1, 1])"
      ]
     },
     "execution_count": 198,
     "metadata": {},
     "output_type": "execute_result"
    }
   ],
   "source": [
    "### out of the box predictions using sklearn uses 50% threshold\n",
    "logreg.predict(xtest)"
   ]
  },
  {
   "cell_type": "code",
   "execution_count": 199,
   "metadata": {},
   "outputs": [],
   "source": [
    "probs = logreg.predict_proba(x) # Prob(0|x), Prob(1|x)"
   ]
  },
  {
   "cell_type": "code",
   "execution_count": 200,
   "metadata": {},
   "outputs": [],
   "source": [
    "def get_labels_predict_proba(probs, thresh=0.50):\n",
    "    labels = []\n",
    "    for prob in probs:\n",
    "        if prob[1] >= thresh:\n",
    "            labels.append(1)\n",
    "        else:\n",
    "            labels.append(0)\n",
    "    return labels"
   ]
  },
  {
   "cell_type": "code",
   "execution_count": 201,
   "metadata": {},
   "outputs": [],
   "source": [
    "new_new_labels = get_labels_predict_proba(probs, thresh=0.20)"
   ]
  },
  {
   "cell_type": "code",
   "execution_count": 202,
   "metadata": {},
   "outputs": [
    {
     "data": {
      "image/png": "[encoded data removed]",
      "text/plain": [
       "<Figure size 576x576 with 3 Axes>"
      ]
     },
     "metadata": {
      "needs_background": "light"
     },
     "output_type": "display_data"
    }
   ],
   "source": [
    "plot_confusion(y, new_new_labels)"
   ]
  },
  {
   "cell_type": "code",
   "execution_count": 203,
   "metadata": {},
   "outputs": [
    {
     "data": {
      "text/plain": [
       "(array([[0.80959107]]), 0.0)"
      ]
     },
     "execution_count": 203,
     "metadata": {},
     "output_type": "execute_result"
    }
   ],
   "source": [
    "logreg.coef_, logreg.intercept_"
   ]
  },
  {
   "cell_type": "code",
   "execution_count": 144,
   "metadata": {},
   "outputs": [],
   "source": [
    "# Newsfeed => Accuracy\n",
    "# Giving out loan => Precision"
   ]
  },
  {
   "cell_type": "markdown",
   "metadata": {},
   "source": [
    "### Assessment\n",
    "- Learned about thresholds and how to set thresholds\n",
    "- Pros and cons for labeling function\n",
    "- I learned how to put both numbers and percentages on heatmap\n",
    "- Sigmoid can be interpreted as a probability function, though it isn't exclusively one\n",
    "- Confusion Matrix analysis separates the wheat and the chaff "
   ]
  }
 ],
 "metadata": {
  "kernelspec": {
   "display_name": "Python 3",
   "language": "python",
   "name": "python3"
  },
  "language_info": {
   "codemirror_mode": {
    "name": "ipython",
    "version": 3
   },
   "file_extension": ".py",
   "mimetype": "text/x-python",
   "name": "python",
   "nbconvert_exporter": "python",
   "pygments_lexer": "ipython3",
   "version": "3.7.3"
  }
 },
 "nbformat": 4,
 "nbformat_minor": 2
}
